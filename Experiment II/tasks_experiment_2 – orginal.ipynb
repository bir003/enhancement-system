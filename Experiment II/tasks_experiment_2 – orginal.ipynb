{
 "cells": [
  {
   "cell_type": "markdown",
   "metadata": {},
   "source": [
    "# Gary's pizza\n",
    "\n",
    "Gary has a pizza startup company. Lately, he gets more costumers than usual, so he created a program to take orders for him. \n",
    "Gary is not really a programmer by heart, and after many hours debugging, he gave up on his beloved project. Lately though there are so many orders that the post-it board is out of control! Can you help him fix the bugs in some of his functions?\n",
    "\n",
    "\n",
    "\n"
   ]
  },
  {
   "cell_type": "markdown",
   "metadata": {},
   "source": [
    "### Run this first!"
   ]
  },
  {
   "cell_type": "code",
   "execution_count": 1,
   "metadata": {},
   "outputs": [],
   "source": [
    "from enhance_system import Enhance_system\n",
    "from word_enhancer import get_meaning\n",
    "\n",
    "\n",
    "userid = 'x'\n",
    "enhance_system = Enhance_system(userid)"
   ]
  },
  {
   "cell_type": "markdown",
   "metadata": {},
   "source": [
    "### Check this out! \n",
    "#### Unsure about any of the terms used in error messages? Replace word  and see if our database can help"
   ]
  },
  {
   "cell_type": "code",
   "execution_count": 2,
   "metadata": {},
   "outputs": [],
   "source": [
    "#get_meaning('self')"
   ]
  },
  {
   "cell_type": "markdown",
   "metadata": {},
   "source": [
    "### Before we begin:\n",
    "\n",
    "Some pointers:\n",
    "    1. Make sure to look at the function description and arguments before looking at the code.\n",
    "    2. When an error pops up, read it.\n",
    "        2.1. If the error message made sense: go in the code and edit the error\n",
    "        2.2. If the error did not make sense: go ahead and run the enhanced error which gives more information\n",
    "    3. Unsure about any technical terms? Try the word_enhancer in the cell obove!\n",
    "    \n",
    "\n",
    "#### How to use the error message enhancer\n",
    "It has been imported by:\n",
    "    from enhance_system import Enhance_system\n",
    "    \n",
    "An object was made to access it by:\n",
    "    enhance_system = Enhance_system(userid)\n",
    "\n",
    "So, this should be on top of your python file:\n",
    "from enhance_system import Enhance_system\n",
    "from word_enhancer import get_meaning\n",
    "\n",
    "You can pass your username or a random identifier(be creative) as 'userid'\n",
    "\n",
    "\n",
    "You can pass any function to the enhancer by calling the check function with enhance_system.check().\n",
    "\n",
    "For example: \n",
    "enhance_system.check(greet_customer, 'sigrid maria brækken')\n",
    "where greet_customer is an example of a function, and 'sigrid maria brækken' is an argument. If you are adding more arguments, make sure to put a comma inbetween.\n",
    "\n",
    "\n",
    "\n",
    "###### The following arguments are needed:\n",
    "    - Function name without parenthasis\n",
    "    - Arguments for the function inside [], separate them by comma. If there are no arguments, go to the next step.\n",
    "    - If the function is within a class, you need to send an object of it.\n",
    "        for example: pizza = Pizza('ham')\n",
    "        obj = pizza\n",
    "    \n",
    "### Now, time for some coding!"
   ]
  },
  {
   "cell_type": "markdown",
   "metadata": {},
   "source": [
    "## 1."
   ]
  },
  {
   "cell_type": "code",
   "execution_count": 9,
   "metadata": {},
   "outputs": [],
   "source": [
    "def greet_customer(str):                                                                      \n",
    "    '''Function for greeting customer and start the order by asking for number of pizzas.'''\n",
    "    name = str.split(' ')   \n",
    "    print ('Hello', name[0].Capitalize()+'!')\n",
    "\n",
    "    n_pizzas = input('How many pizzas would you like?')\n",
    "    print('OK', name[0]+'!', 'continue to choose what toppings you would like on the', str(n_pizzas), 'pizzas.')\n",
    "    print(n_pizzas)\n",
    "    \n",
    "\n",
    "#enhance_system.check(greet_customer, 'sigrid maria brækken') # greet_customer('sigrid maria brækken')"
   ]
  },
  {
   "cell_type": "markdown",
   "metadata": {},
   "source": [
    "## 2. "
   ]
  },
  {
   "cell_type": "code",
   "execution_count": 4,
   "metadata": {
    "scrolled": true
   },
   "outputs": [],
   "source": [
    "\n",
    "class Pizza:\n",
    "    def __init__ (self, topping, size, allergy = None):\n",
    "        self.toppings = [topping]\n",
    "        self.allergy = allergy\n",
    "                                    \n",
    "    def add_topping(topping):\n",
    "        '''add topping to pizza'''\n",
    "        self.topping.append(topping)\n",
    "        print('added topping', topping)\n",
    "\n",
    "pizza = Pizza(['ham'], 'l', 'gluten')\n",
    "#enhance_system.check(pizza.add_topping,'cheese', obj=pizza) #pizza.add_topping('cheese')\n",
    "\n",
    "  "
   ]
  },
  {
   "cell_type": "markdown",
   "metadata": {},
   "source": [
    "## 3. "
   ]
  },
  {
   "cell_type": "code",
   "execution_count": 5,
   "metadata": {},
   "outputs": [],
   "source": [
    "areas = {'åsane': '20km',\n",
    "         'gamle bergen': '7km',\n",
    "         'sentrum': '1km',\n",
    "         'damsgård':'1km',\n",
    "         'kronstad':'4km',\n",
    "         'lyngbø':'5km',\n",
    "         'loddefjord':'8km' # dictionary with delivery areas and their distance              \n",
    "        }\n",
    "\n",
    "class Customer: \n",
    "    def __init__ (self, name, favourite_pizza, address):\n",
    "        self.name = name\n",
    "        self.favourite_pizza = favourite_pizza\n",
    "        self.address = address\n",
    "    \n",
    "    def get_distance(self): \n",
    "        dist = areas[self.address]\n",
    "        print(dist)\n",
    "\n",
    "\n",
    "        \n",
    "cus = Customer('harald', 'hawaii', 'fløyen 1')  \n",
    "#enhance_system.check(cus.get_distance, obj = cus)"
   ]
  },
  {
   "cell_type": "markdown",
   "metadata": {},
   "source": [
    "## 4"
   ]
  },
  {
   "cell_type": "code",
   "execution_count": 6,
   "metadata": {},
   "outputs": [],
   "source": [
    "#GOOD  not iterable, zerodiv\n",
    "def how_many_pizzas_to_satisfy_everyone(n_people):                                    #int object not iterable, zerodivision mod\n",
    "    ''' A large pizza is enough for 3 people, a small for 1 person. Using modulo 3 to check for the amount of large pizzas needed.'''\n",
    "    large = 0\n",
    "    small = 0\n",
    "    mod_by = 0\n",
    "    \n",
    "    for i in range(n_people): \n",
    "        if (i+1)%mod_by == 0:\n",
    "            large += 1\n",
    "    small = (i+1)%mod_by\n",
    "\n",
    "    print(large, small)\n",
    "\n",
    "#enhance_system.check(how_many_pizzas_to_satisfy_everyone, 7) #how_many_pizzas_to_satisfy_everyone(n_people)\n",
    "    "
   ]
  },
  {
   "cell_type": "markdown",
   "metadata": {},
   "source": [
    "## 5."
   ]
  },
  {
   "cell_type": "code",
   "execution_count": 7,
   "metadata": {},
   "outputs": [],
   "source": [
    "import random\n",
    "\n",
    "def create_random_pizza_but_no_chicken():\n",
    "\n",
    "    toppings = []\n",
    "    meats = ['chicken','pepperoni', 'sausage']\n",
    "    meatish = ['meatish 0% meat', 'Oumph!', 'mushroom', 'pinapple', ]\n",
    "    \n",
    "    \n",
    "    for i in range(len(meatish)): \n",
    "        if meats[i] != 'chicken':\n",
    "            continue\n",
    "        if random.randint(0,1) == 1:\n",
    "            toppings.append(meats[i])\n",
    "    for i in range(len(meatish)):        \n",
    "        if random.randint(0,1) == 1:\n",
    "            toppings.append(meatish[i])\n",
    "    print(toppings)\n",
    "\n",
    "#enhance_system.check(create_random_pizza_but_no_chicken)"
   ]
  },
  {
   "cell_type": "markdown",
   "metadata": {},
   "source": [
    "## 6."
   ]
  },
  {
   "cell_type": "code",
   "execution_count": 8,
   "metadata": {},
   "outputs": [],
   "source": [
    "orders = [(1290,1200), (672, 3000), (140, 269)]\n",
    "max_dist = 1000\n",
    "\n",
    "def find_delivery_priority(orders, max_dist):\n",
    "    '''return the order with the highest cash income within the given maximum distance.\n",
    "    Takes a tuple list of orders in the format (cash_sum, distance) '''\n",
    "    \n",
    "    priority = orders[0][0] # set priority object to first item\n",
    "    \n",
    "    for order in orders:\n",
    "        distance = order[1] \n",
    "        if priority[0] > order[0] and distance < max_dist:\n",
    "            priority = order\n",
    "            \n",
    "    print(priority)\n",
    "\n",
    "#enhance_system.check(find_delivery_priority, orders, max_dist)"
   ]
  },
  {
   "cell_type": "code",
   "execution_count": null,
   "metadata": {},
   "outputs": [],
   "source": []
  }
 ],
 "metadata": {
  "kernelspec": {
   "display_name": "Python 3",
   "language": "python",
   "name": "python3"
  },
  "language_info": {
   "codemirror_mode": {
    "name": "ipython",
    "version": 3
   },
   "file_extension": ".py",
   "mimetype": "text/x-python",
   "name": "python",
   "nbconvert_exporter": "python",
   "pygments_lexer": "ipython3",
   "version": "3.6.5"
  }
 },
 "nbformat": 4,
 "nbformat_minor": 2
}
