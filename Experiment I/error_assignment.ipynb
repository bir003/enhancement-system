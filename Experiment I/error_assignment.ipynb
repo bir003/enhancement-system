{
 "cells": [
  {
   "cell_type": "markdown",
   "metadata": {},
   "source": [
    "Before you turn this problem in, make sure everything runs as expected. First, **restart the kernel** (in the menubar, select Kernel$\\rightarrow$Restart) and then **run all cells** (in the menubar, select Cell$\\rightarrow$Run All).\n",
    "\n",
    "Make sure you fill in any place that says `YOUR CODE HERE` or `YOUR ANSWER HERE`, as well as your name and collaborators below:"
   ]
  },
  {
   "cell_type": "code",
   "execution_count": 1,
   "metadata": {},
   "outputs": [],
   "source": [
    "NAME = \"\"\n",
    "COLLABORATORS = \"\""
   ]
  },
  {
   "cell_type": "markdown",
   "metadata": {},
   "source": [
    "---"
   ]
  },
  {
   "cell_type": "markdown",
   "metadata": {
    "deletable": false,
    "editable": false,
    "nbgrader": {
     "checksum": "4587526a884f119ad2c11160ed039bab",
     "grade": false,
     "grade_id": "cell-dd4ef3656b3c978c",
     "locked": true,
     "schema_version": 1,
     "solution": false
    }
   },
   "source": [
    "# Error handling\n",
    "\n",
    "Welcome to the error handling assignment! Here you are given many common errors that you likely have seen already during the previous weeks. Be aware that this assignment is not obligatory, however it can be a good practice before the exam. Also there are two cinema tickets that are given away to a lucky participant! \n",
    "\n",
    "These exercises are very different to everything else you have done in Puffin. Instead of writing functions for a problem, you will now fix errors in the existing code. This is excellent practise before the exam and will help you to write code error free, and get better at locating errors in code! \n",
    "\n",
    "## Additional help solving error messages\n",
    "\n",
    "We're trying to see whether giving additional help and/or a short explanation of the error can help lost pufflings in their quest for error solutions. To test this occasion, about 50% of you might get some additional text with your error messages. *If the helper text was found helpful, make sure to click “helpful” in the checkbox that should also appear.*\n",
    "\n",
    "We'll collect data for further research. It is therefore a high request that you do not work together with other students on this small assignment.\n",
    "\n",
    "## General Guidelines\n",
    "\n",
    "* This assignment is to be done individually – it shouldn't take much time, so it is perfect for a little home activity!\n",
    "\n",
    "* The functions will contain at least one error. It is your task to make sure that the function compiles, and in addition returns what is specified in the docstring. Since there will be no tests that verify if the function returns the correct value at the exam, there will be no such thing here either. :)\n",
    "\n",
    "* These are the following steps in solving the errors:\n",
    "    - Run the cell.\n",
    "    - Read the error message / Exception.\n",
    "    - If you see a text saying \"Maybe this can help?\", read it!\n",
    "    - Solve the error in the code.\n",
    "    - If you got additional help, give feedback whether it was useful or not by pressing one of the buttons.\n",
    "    \n",
    "* You may delete and add to the given code in order to fix the errors. However it should only be necessary to touch a few lines, arguments or names – The majority of the existing code should still be there.\n",
    "\n",
    "\n",
    "If you cannot fix the error, but have tried. That is ok - leave it, and move on to the next problem. \n",
    "\n",
    "If you work together with someone on this assignment, you put the experiment result in jeopardy and you do not get to test your own awesome code skills! :D The exam has no communication, so it should be ok to do this individually too. ;)\n",
    "\n",
    "#### Best of luck! :)\n",
    "\n",
    "— Sigrid\n"
   ]
  },
  {
   "cell_type": "code",
   "execution_count": 2,
   "metadata": {},
   "outputs": [],
   "source": [
    "#Run this first!\n",
    "import error_program"
   ]
  },
  {
   "cell_type": "markdown",
   "metadata": {
    "deletable": false,
    "editable": false,
    "nbgrader": {
     "checksum": "3e5bf0d907a95f343d3142a0616bda5e",
     "grade": false,
     "grade_id": "cell-38cd1c8ccecac225",
     "locked": true,
     "schema_version": 1,
     "solution": false
    }
   },
   "source": [
    "### Task 1"
   ]
  },
  {
   "cell_type": "code",
   "execution_count": 15,
   "metadata": {},
   "outputs": [],
   "source": [
    "def find_index_of_X(text):\n",
    "    '''returns the positions of X in a given text'''\n",
    "    result = []\n",
    "    for i in range(text):\n",
    "        if text[i] == X:\n",
    "            result.add[i]\n",
    "    return result\n",
    "\n",
    "#error_program.check(find_index_of_X, 'I love the X-men, not just because it has a X in it but other reasons too! ') "
   ]
  },
  {
   "cell_type": "markdown",
   "metadata": {
    "deletable": false,
    "editable": false,
    "nbgrader": {
     "checksum": "43c7c429566d0f54823ae6d375bd8bf5",
     "grade": false,
     "grade_id": "cell-81a500239aae0fa5",
     "locked": true,
     "schema_version": 1,
     "solution": false
    }
   },
   "source": [
    "### Task 2"
   ]
  },
  {
   "cell_type": "code",
   "execution_count": 4,
   "metadata": {},
   "outputs": [],
   "source": [
    "def get_last_digit(text):\n",
    "    '''Returns the last digit in given text'''\n",
    "    length = len(text)\n",
    "    text = text.strip()\n",
    "    i = ''\n",
    "    digits = ''\n",
    "    while i < length: \n",
    "        if text[i].isDigit():\n",
    "            digits +=text[i]\n",
    "        else:\n",
    "            digits = ''\n",
    "        i+=1\n",
    "    return digits\n",
    "\n",
    "#error_program.check(get_last_digit, ' During the sales the  total cost of  4   movies is $:  99')"
   ]
  },
  {
   "cell_type": "markdown",
   "metadata": {
    "deletable": false,
    "editable": false,
    "nbgrader": {
     "checksum": "2a14781bb271d8bbd2f589a8b829638f",
     "grade": false,
     "grade_id": "cell-685ac4957c7a7eb6",
     "locked": true,
     "schema_version": 1,
     "solution": false
    }
   },
   "source": [
    "### Task 3"
   ]
  },
  {
   "cell_type": "code",
   "execution_count": 12,
   "metadata": {},
   "outputs": [],
   "source": [
    "def shorten_string(text, len):\n",
    "    '''Shortens the text to the given length'''\n",
    "    length = len\n",
    "    if len(text) <= length:\n",
    "        return text\n",
    "    print( str[:lenght] + '...')\n",
    "\n",
    "\n",
    "txt = 'description:   This model of X-mas lights is exceptionally good in cold, snowy weather..'\n",
    "#error_program.check(shorten_string, txt, 6)"
   ]
  },
  {
   "cell_type": "markdown",
   "metadata": {
    "deletable": false,
    "editable": false,
    "nbgrader": {
     "checksum": "0d2793a615e2cbf3060de0ca1cd41189",
     "grade": false,
     "grade_id": "cell-c42a00bfe4c5d727",
     "locked": true,
     "schema_version": 1,
     "solution": false
    }
   },
   "source": [
    "### Task 4"
   ]
  },
  {
   "cell_type": "code",
   "execution_count": 6,
   "metadata": {},
   "outputs": [],
   "source": [
    "def get_treat_divisions(treats_to_share, list_of_populations):\n",
    "    '''Prints the list containing the amount of treats a population gets for each member in the given population'''\n",
    "    return_lis1 = [treats_to_share//x for x in list_of_population]\n",
    "    print (return_list)\n",
    "\n",
    "\n",
    "#error_program.check(get_treat_divisions, 589000, [4368, 489, 92999, 0, 3303, 0])"
   ]
  },
  {
   "cell_type": "markdown",
   "metadata": {
    "deletable": false,
    "editable": false,
    "nbgrader": {
     "checksum": "794c1854e2eaaea4b58a08933bc009c3",
     "grade": false,
     "grade_id": "cell-639905ab9e1fd257",
     "locked": true,
     "schema_version": 1,
     "solution": false
    }
   },
   "source": [
    "### Task 5"
   ]
  },
  {
   "cell_type": "code",
   "execution_count": 7,
   "metadata": {},
   "outputs": [],
   "source": [
    "def get_last_character(list, len = 1):\n",
    "    if len == 0:\n",
    "        pass\n",
    "    return list[len(list):]\n",
    "\n",
    "\n",
    "#error_program.check(get_last_character, 'hopefully the function returns something very cool😎')"
   ]
  },
  {
   "cell_type": "markdown",
   "metadata": {
    "deletable": false,
    "editable": false,
    "nbgrader": {
     "checksum": "89bfb7ccab4d28fcd0f7ff3e49fad069",
     "grade": false,
     "grade_id": "cell-87a463296e242992",
     "locked": true,
     "schema_version": 1,
     "solution": false
    }
   },
   "source": [
    "### Task 6"
   ]
  },
  {
   "cell_type": "code",
   "execution_count": 8,
   "metadata": {},
   "outputs": [],
   "source": [
    "def create_n_random_coordinate_points(n):\n",
    "    '''adds n new randomly generated coordiante points to global list coordinate_points and print at the end'''\n",
    "    for i in range(n):\n",
    "        coordinate_points.append(random.randint(0),random.randint(0,100))\n",
    "    print(coordinate_points)\n",
    "    \n",
    "coordinate_points = [[3,4], [1,5]]\n",
    "\n",
    "\n",
    "#error_program.check(create_n_random_coordinate_points, 100)"
   ]
  },
  {
   "cell_type": "markdown",
   "metadata": {
    "deletable": false,
    "editable": false,
    "nbgrader": {
     "checksum": "c454f9ad0acaec8e38c58abf253675ab",
     "grade": false,
     "grade_id": "cell-f451044c013ecd18",
     "locked": true,
     "schema_version": 1,
     "solution": false
    }
   },
   "source": [
    "### Task 7"
   ]
  },
  {
   "cell_type": "code",
   "execution_count": 9,
   "metadata": {},
   "outputs": [],
   "source": [
    "def find_biggest_X_mas_treat_ever(treats, dist):\n",
    "    '''return the treat with the highest value within the given distance\n",
    "    Takes a tuple list of treats in the format (value,distance) '''\n",
    "    \n",
    "    treat = treats[0][0]\n",
    "    \n",
    "    for t in enumerate(treats):\n",
    "        if treat[0] > t[0] and distance < dist:\n",
    "            treat = t\n",
    "    return treat\n",
    "\n",
    "\n",
    "#error_program.check(find_biggest_X_mas_treat_ever,[(700,80),(690,90),(543,7),(978,80),(456,23),(1245,67),(2003,3569),(345,6)], 80)"
   ]
  },
  {
   "cell_type": "markdown",
   "metadata": {
    "deletable": false,
    "editable": false,
    "nbgrader": {
     "checksum": "50db529c048bad912924e811a208d159",
     "grade": false,
     "grade_id": "cell-cebe03a3f740ad9d",
     "locked": true,
     "schema_version": 1,
     "solution": false
    }
   },
   "source": [
    "### Task 8"
   ]
  },
  {
   "cell_type": "code",
   "execution_count": 10,
   "metadata": {},
   "outputs": [],
   "source": [
    "dictionary = dict\n",
    "def create_dict(s):\n",
    "    '''returns the string s converted into a dictionary'''\n",
    "    list_1 = s.split('|')\n",
    "    \n",
    "    for e in enumerate(list_1):\n",
    "        a,_ = e.split(':')\n",
    "        dictionary.update({a:b})\n",
    "    \n",
    "    print ('Done!')\n",
    "\n",
    "#error_program.check(create_dict, 'id:45793|name:Santa|vehicle:Sled|pet_licencing:Reindeer|favourite_pet:Rudolf|fav_food:Grøt')\n",
    "        "
   ]
  },
  {
   "cell_type": "markdown",
   "metadata": {},
   "source": [
    "# Other comments\n",
    "\n",
    "*Doubleclick on this cell if you want to give extra feedback on this exercise.*\n",
    "\n",
    "I think..."
   ]
  }
 ],
 "metadata": {
  "kernelspec": {
   "display_name": "Python 3",
   "language": "python",
   "name": "python3"
  },
  "language_info": {
   "codemirror_mode": {
    "name": "ipython",
    "version": 3
   },
   "file_extension": ".py",
   "mimetype": "text/x-python",
   "name": "python",
   "nbconvert_exporter": "python",
   "pygments_lexer": "ipython3",
   "version": "3.6.5"
  }
 },
 "nbformat": 4,
 "nbformat_minor": 2
}
